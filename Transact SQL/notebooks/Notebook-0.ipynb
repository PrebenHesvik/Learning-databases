{
    "metadata": {
        "kernelspec": {
            "name": "SQL",
            "display_name": "SQL",
            "language": "sql"
        },
        "language_info": {
            "name": "sql",
            "version": ""
        }
    },
    "nbformat_minor": 2,
    "nbformat": 4,
    "cells": [
        {
            "cell_type": "code",
            "source": [
                "SELECT *\r\n",
                "FROM\r\n",
                "    (\r\n",
                "    SELECT\r\n",
                "        E.EmployeeNumber AS ENumber,\r\n",
                "        E.EmployeeFirstName,\r\n",
                "        E.EmployeeLastName,\r\n",
                "        T.EmployeeNumber AS TNumber,\r\n",
                "        sum(T.Amount) AS TotalAmount\r\n",
                "    FROM tblEmployee AS E\r\n",
                "        RIGHT JOIN tblTransaction AS T\r\n",
                "        ON E.EmployeeNumber = T.EmployeeNumber\r\n",
                "    GROUP BY\r\n",
                "        E.EmployeeNumber,\r\n",
                "        T.EmployeeNumber,\r\n",
                "        E.EmployeeFirstName,\r\n",
                "        E.EmployeeLastName\r\n",
                "    )\r\n",
                "    AS newTable\r\n",
                "WHERE ENumber IS NULL\r\n",
                "ORDER BY\r\n",
                "    ENumber,\r\n",
                "    TNumber,\r\n",
                "    EmployeeFirstName,\r\n",
                "    EmployeeLastName"
            ],
            "metadata": {
                "azdata_cell_guid": "6aa7f898-5872-4f7c-8e3f-def971754a41",
                "tags": []
            },
            "outputs": [
                {
                    "output_type": "display_data",
                    "data": {
                        "text/html": "(106 rows affected)"
                    },
                    "metadata": {}
                },
                {
                    "output_type": "display_data",
                    "data": {
                        "text/html": "Total execution time: 00:00:00.074"
                    },
                    "metadata": {}
                },
                {
                    "output_type": "execute_result",
                    "metadata": {},
                    "execution_count": 1,
                    "data": {
                        "application/vnd.dataresource+json": {
                            "schema": {
                                "fields": [
                                    {
                                        "name": "ENumber"
                                    },
                                    {
                                        "name": "EmployeeFirstName"
                                    },
                                    {
                                        "name": "EmployeeLastName"
                                    },
                                    {
                                        "name": "TNumber"
                                    },
                                    {
                                        "name": "TotalAmount"
                                    }
                                ]
                            },
                            "data": [
                                {
                                    "0": "NULL",
                                    "1": "NULL",
                                    "2": "NULL",
                                    "3": "1",
                                    "4": "-159.9000"
                                },
                                {
                                    "0": "NULL",
                                    "1": "NULL",
                                    "2": "NULL",
                                    "3": "2",
                                    "4": "-1226.5100"
                                },
                                {
                                    "0": "NULL",
                                    "1": "NULL",
                                    "2": "NULL",
                                    "3": "3",
                                    "4": "1436.3400"
                                },
                                {
                                    "0": "NULL",
                                    "1": "NULL",
                                    "2": "NULL",
                                    "3": "4",
                                    "4": "-332.5500"
                                },
                                {
                                    "0": "NULL",
                                    "1": "NULL",
                                    "2": "NULL",
                                    "3": "5",
                                    "4": "1852.7800"
                                },
                                {
                                    "0": "NULL",
                                    "1": "NULL",
                                    "2": "NULL",
                                    "3": "6",
                                    "4": "1070.1200"
                                },
                                {
                                    "0": "NULL",
                                    "1": "NULL",
                                    "2": "NULL",
                                    "3": "7",
                                    "4": "-333.3300"
                                },
                                {
                                    "0": "NULL",
                                    "1": "NULL",
                                    "2": "NULL",
                                    "3": "8",
                                    "4": "-981.8700"
                                },
                                {
                                    "0": "NULL",
                                    "1": "NULL",
                                    "2": "NULL",
                                    "3": "9",
                                    "4": "738.4500"
                                },
                                {
                                    "0": "NULL",
                                    "1": "NULL",
                                    "2": "NULL",
                                    "3": "10",
                                    "4": "239.1500"
                                },
                                {
                                    "0": "NULL",
                                    "1": "NULL",
                                    "2": "NULL",
                                    "3": "11",
                                    "4": "-80.9100"
                                },
                                {
                                    "0": "NULL",
                                    "1": "NULL",
                                    "2": "NULL",
                                    "3": "12",
                                    "4": "293.6800"
                                },
                                {
                                    "0": "NULL",
                                    "1": "NULL",
                                    "2": "NULL",
                                    "3": "13",
                                    "4": "394.5000"
                                },
                                {
                                    "0": "NULL",
                                    "1": "NULL",
                                    "2": "NULL",
                                    "3": "14",
                                    "4": "-634.1400"
                                },
                                {
                                    "0": "NULL",
                                    "1": "NULL",
                                    "2": "NULL",
                                    "3": "15",
                                    "4": "1156.1900"
                                },
                                {
                                    "0": "NULL",
                                    "1": "NULL",
                                    "2": "NULL",
                                    "3": "16",
                                    "4": "1226.0000"
                                },
                                {
                                    "0": "NULL",
                                    "1": "NULL",
                                    "2": "NULL",
                                    "3": "17",
                                    "4": "-38.8400"
                                },
                                {
                                    "0": "NULL",
                                    "1": "NULL",
                                    "2": "NULL",
                                    "3": "19",
                                    "4": "1440.0300"
                                },
                                {
                                    "0": "NULL",
                                    "1": "NULL",
                                    "2": "NULL",
                                    "3": "21",
                                    "4": "1150.2000"
                                },
                                {
                                    "0": "NULL",
                                    "1": "NULL",
                                    "2": "NULL",
                                    "3": "22",
                                    "4": "134.7300"
                                },
                                {
                                    "0": "NULL",
                                    "1": "NULL",
                                    "2": "NULL",
                                    "3": "23",
                                    "4": "-435.8600"
                                },
                                {
                                    "0": "NULL",
                                    "1": "NULL",
                                    "2": "NULL",
                                    "3": "24",
                                    "4": "106.3000"
                                },
                                {
                                    "0": "NULL",
                                    "1": "NULL",
                                    "2": "NULL",
                                    "3": "25",
                                    "4": "-561.9100"
                                },
                                {
                                    "0": "NULL",
                                    "1": "NULL",
                                    "2": "NULL",
                                    "3": "26",
                                    "4": "411.2800"
                                },
                                {
                                    "0": "NULL",
                                    "1": "NULL",
                                    "2": "NULL",
                                    "3": "27",
                                    "4": "990.5300"
                                },
                                {
                                    "0": "NULL",
                                    "1": "NULL",
                                    "2": "NULL",
                                    "3": "28",
                                    "4": "269.4600"
                                },
                                {
                                    "0": "NULL",
                                    "1": "NULL",
                                    "2": "NULL",
                                    "3": "29",
                                    "4": "-434.4100"
                                },
                                {
                                    "0": "NULL",
                                    "1": "NULL",
                                    "2": "NULL",
                                    "3": "30",
                                    "4": "-796.0200"
                                },
                                {
                                    "0": "NULL",
                                    "1": "NULL",
                                    "2": "NULL",
                                    "3": "32",
                                    "4": "-132.4200"
                                },
                                {
                                    "0": "NULL",
                                    "1": "NULL",
                                    "2": "NULL",
                                    "3": "34",
                                    "4": "265.8100"
                                },
                                {
                                    "0": "NULL",
                                    "1": "NULL",
                                    "2": "NULL",
                                    "3": "35",
                                    "4": "940.1800"
                                },
                                {
                                    "0": "NULL",
                                    "1": "NULL",
                                    "2": "NULL",
                                    "3": "37",
                                    "4": "-1532.1600"
                                },
                                {
                                    "0": "NULL",
                                    "1": "NULL",
                                    "2": "NULL",
                                    "3": "39",
                                    "4": "300.4800"
                                },
                                {
                                    "0": "NULL",
                                    "1": "NULL",
                                    "2": "NULL",
                                    "3": "40",
                                    "4": "-1817.0700"
                                },
                                {
                                    "0": "NULL",
                                    "1": "NULL",
                                    "2": "NULL",
                                    "3": "43",
                                    "4": "-580.7600"
                                },
                                {
                                    "0": "NULL",
                                    "1": "NULL",
                                    "2": "NULL",
                                    "3": "44",
                                    "4": "-293.1900"
                                },
                                {
                                    "0": "NULL",
                                    "1": "NULL",
                                    "2": "NULL",
                                    "3": "45",
                                    "4": "991.9600"
                                },
                                {
                                    "0": "NULL",
                                    "1": "NULL",
                                    "2": "NULL",
                                    "3": "46",
                                    "4": "-1012.5300"
                                },
                                {
                                    "0": "NULL",
                                    "1": "NULL",
                                    "2": "NULL",
                                    "3": "47",
                                    "4": "360.5800"
                                },
                                {
                                    "0": "NULL",
                                    "1": "NULL",
                                    "2": "NULL",
                                    "3": "48",
                                    "4": "-733.7100"
                                },
                                {
                                    "0": "NULL",
                                    "1": "NULL",
                                    "2": "NULL",
                                    "3": "49",
                                    "4": "-995.1700"
                                },
                                {
                                    "0": "NULL",
                                    "1": "NULL",
                                    "2": "NULL",
                                    "3": "50",
                                    "4": "1231.5000"
                                },
                                {
                                    "0": "NULL",
                                    "1": "NULL",
                                    "2": "NULL",
                                    "3": "51",
                                    "4": "-766.3700"
                                },
                                {
                                    "0": "NULL",
                                    "1": "NULL",
                                    "2": "NULL",
                                    "3": "52",
                                    "4": "565.0300"
                                },
                                {
                                    "0": "NULL",
                                    "1": "NULL",
                                    "2": "NULL",
                                    "3": "53",
                                    "4": "-1247.4400"
                                },
                                {
                                    "0": "NULL",
                                    "1": "NULL",
                                    "2": "NULL",
                                    "3": "54",
                                    "4": "-998.1600"
                                },
                                {
                                    "0": "NULL",
                                    "1": "NULL",
                                    "2": "NULL",
                                    "3": "55",
                                    "4": "471.2400"
                                },
                                {
                                    "0": "NULL",
                                    "1": "NULL",
                                    "2": "NULL",
                                    "3": "57",
                                    "4": "-394.1200"
                                },
                                {
                                    "0": "NULL",
                                    "1": "NULL",
                                    "2": "NULL",
                                    "3": "59",
                                    "4": "0.9000"
                                },
                                {
                                    "0": "NULL",
                                    "1": "NULL",
                                    "2": "NULL",
                                    "3": "61",
                                    "4": "-671.1100"
                                },
                                {
                                    "0": "NULL",
                                    "1": "NULL",
                                    "2": "NULL",
                                    "3": "62",
                                    "4": "-691.5700"
                                },
                                {
                                    "0": "NULL",
                                    "1": "NULL",
                                    "2": "NULL",
                                    "3": "63",
                                    "4": "40.7600"
                                },
                                {
                                    "0": "NULL",
                                    "1": "NULL",
                                    "2": "NULL",
                                    "3": "64",
                                    "4": "-533.9400"
                                },
                                {
                                    "0": "NULL",
                                    "1": "NULL",
                                    "2": "NULL",
                                    "3": "66",
                                    "4": "394.4900"
                                },
                                {
                                    "0": "NULL",
                                    "1": "NULL",
                                    "2": "NULL",
                                    "3": "68",
                                    "4": "-286.1400"
                                },
                                {
                                    "0": "NULL",
                                    "1": "NULL",
                                    "2": "NULL",
                                    "3": "69",
                                    "4": "-480.5300"
                                },
                                {
                                    "0": "NULL",
                                    "1": "NULL",
                                    "2": "NULL",
                                    "3": "70",
                                    "4": "-319.6300"
                                },
                                {
                                    "0": "NULL",
                                    "1": "NULL",
                                    "2": "NULL",
                                    "3": "71",
                                    "4": "48.7400"
                                },
                                {
                                    "0": "NULL",
                                    "1": "NULL",
                                    "2": "NULL",
                                    "3": "72",
                                    "4": "435.6600"
                                },
                                {
                                    "0": "NULL",
                                    "1": "NULL",
                                    "2": "NULL",
                                    "3": "73",
                                    "4": "828.3200"
                                },
                                {
                                    "0": "NULL",
                                    "1": "NULL",
                                    "2": "NULL",
                                    "3": "74",
                                    "4": "116.6800"
                                },
                                {
                                    "0": "NULL",
                                    "1": "NULL",
                                    "2": "NULL",
                                    "3": "75",
                                    "4": "446.7000"
                                },
                                {
                                    "0": "NULL",
                                    "1": "NULL",
                                    "2": "NULL",
                                    "3": "76",
                                    "4": "1275.8700"
                                },
                                {
                                    "0": "NULL",
                                    "1": "NULL",
                                    "2": "NULL",
                                    "3": "77",
                                    "4": "843.7700"
                                },
                                {
                                    "0": "NULL",
                                    "1": "NULL",
                                    "2": "NULL",
                                    "3": "78",
                                    "4": "-98.6000"
                                },
                                {
                                    "0": "NULL",
                                    "1": "NULL",
                                    "2": "NULL",
                                    "3": "79",
                                    "4": "759.0600"
                                },
                                {
                                    "0": "NULL",
                                    "1": "NULL",
                                    "2": "NULL",
                                    "3": "80",
                                    "4": "1940.2800"
                                },
                                {
                                    "0": "NULL",
                                    "1": "NULL",
                                    "2": "NULL",
                                    "3": "81",
                                    "4": "-1441.6800"
                                },
                                {
                                    "0": "NULL",
                                    "1": "NULL",
                                    "2": "NULL",
                                    "3": "82",
                                    "4": "2110.1700"
                                },
                                {
                                    "0": "NULL",
                                    "1": "NULL",
                                    "2": "NULL",
                                    "3": "84",
                                    "4": "132.0600"
                                },
                                {
                                    "0": "NULL",
                                    "1": "NULL",
                                    "2": "NULL",
                                    "3": "85",
                                    "4": "596.2000"
                                },
                                {
                                    "0": "NULL",
                                    "1": "NULL",
                                    "2": "NULL",
                                    "3": "86",
                                    "4": "-111.2800"
                                },
                                {
                                    "0": "NULL",
                                    "1": "NULL",
                                    "2": "NULL",
                                    "3": "87",
                                    "4": "199.7100"
                                },
                                {
                                    "0": "NULL",
                                    "1": "NULL",
                                    "2": "NULL",
                                    "3": "88",
                                    "4": "-343.1700"
                                },
                                {
                                    "0": "NULL",
                                    "1": "NULL",
                                    "2": "NULL",
                                    "3": "89",
                                    "4": "458.8000"
                                },
                                {
                                    "0": "NULL",
                                    "1": "NULL",
                                    "2": "NULL",
                                    "3": "90",
                                    "4": "197.1200"
                                },
                                {
                                    "0": "NULL",
                                    "1": "NULL",
                                    "2": "NULL",
                                    "3": "91",
                                    "4": "-1535.9500"
                                },
                                {
                                    "0": "NULL",
                                    "1": "NULL",
                                    "2": "NULL",
                                    "3": "92",
                                    "4": "336.7200"
                                },
                                {
                                    "0": "NULL",
                                    "1": "NULL",
                                    "2": "NULL",
                                    "3": "93",
                                    "4": "446.1400"
                                },
                                {
                                    "0": "NULL",
                                    "1": "NULL",
                                    "2": "NULL",
                                    "3": "95",
                                    "4": "-350.2500"
                                },
                                {
                                    "0": "NULL",
                                    "1": "NULL",
                                    "2": "NULL",
                                    "3": "96",
                                    "4": "1061.7300"
                                },
                                {
                                    "0": "NULL",
                                    "1": "NULL",
                                    "2": "NULL",
                                    "3": "97",
                                    "4": "916.9300"
                                },
                                {
                                    "0": "NULL",
                                    "1": "NULL",
                                    "2": "NULL",
                                    "3": "98",
                                    "4": "-27.7600"
                                },
                                {
                                    "0": "NULL",
                                    "1": "NULL",
                                    "2": "NULL",
                                    "3": "99",
                                    "4": "688.1300"
                                },
                                {
                                    "0": "NULL",
                                    "1": "NULL",
                                    "2": "NULL",
                                    "3": "100",
                                    "4": "-323.5400"
                                },
                                {
                                    "0": "NULL",
                                    "1": "NULL",
                                    "2": "NULL",
                                    "3": "101",
                                    "4": "2104.2900"
                                },
                                {
                                    "0": "NULL",
                                    "1": "NULL",
                                    "2": "NULL",
                                    "3": "102",
                                    "4": "-708.0100"
                                },
                                {
                                    "0": "NULL",
                                    "1": "NULL",
                                    "2": "NULL",
                                    "3": "103",
                                    "4": "-653.9500"
                                },
                                {
                                    "0": "NULL",
                                    "1": "NULL",
                                    "2": "NULL",
                                    "3": "104",
                                    "4": "-1024.5700"
                                },
                                {
                                    "0": "NULL",
                                    "1": "NULL",
                                    "2": "NULL",
                                    "3": "105",
                                    "4": "770.8600"
                                },
                                {
                                    "0": "NULL",
                                    "1": "NULL",
                                    "2": "NULL",
                                    "3": "106",
                                    "4": "-930.5500"
                                },
                                {
                                    "0": "NULL",
                                    "1": "NULL",
                                    "2": "NULL",
                                    "3": "107",
                                    "4": "-474.8900"
                                },
                                {
                                    "0": "NULL",
                                    "1": "NULL",
                                    "2": "NULL",
                                    "3": "108",
                                    "4": "343.3000"
                                },
                                {
                                    "0": "NULL",
                                    "1": "NULL",
                                    "2": "NULL",
                                    "3": "109",
                                    "4": "38.6300"
                                },
                                {
                                    "0": "NULL",
                                    "1": "NULL",
                                    "2": "NULL",
                                    "3": "110",
                                    "4": "353.9100"
                                },
                                {
                                    "0": "NULL",
                                    "1": "NULL",
                                    "2": "NULL",
                                    "3": "111",
                                    "4": "-398.3800"
                                },
                                {
                                    "0": "NULL",
                                    "1": "NULL",
                                    "2": "NULL",
                                    "3": "112",
                                    "4": "496.1300"
                                },
                                {
                                    "0": "NULL",
                                    "1": "NULL",
                                    "2": "NULL",
                                    "3": "114",
                                    "4": "3.9800"
                                },
                                {
                                    "0": "NULL",
                                    "1": "NULL",
                                    "2": "NULL",
                                    "3": "115",
                                    "4": "1206.2300"
                                },
                                {
                                    "0": "NULL",
                                    "1": "NULL",
                                    "2": "NULL",
                                    "3": "116",
                                    "4": "-459.8300"
                                },
                                {
                                    "0": "NULL",
                                    "1": "NULL",
                                    "2": "NULL",
                                    "3": "117",
                                    "4": "-2268.0300"
                                },
                                {
                                    "0": "NULL",
                                    "1": "NULL",
                                    "2": "NULL",
                                    "3": "118",
                                    "4": "-1777.3600"
                                },
                                {
                                    "0": "NULL",
                                    "1": "NULL",
                                    "2": "NULL",
                                    "3": "119",
                                    "4": "-1400.4600"
                                },
                                {
                                    "0": "NULL",
                                    "1": "NULL",
                                    "2": "NULL",
                                    "3": "120",
                                    "4": "916.3200"
                                },
                                {
                                    "0": "NULL",
                                    "1": "NULL",
                                    "2": "NULL",
                                    "3": "121",
                                    "4": "531.7800"
                                },
                                {
                                    "0": "NULL",
                                    "1": "NULL",
                                    "2": "NULL",
                                    "3": "122",
                                    "4": "854.3900"
                                }
                            ]
                        },
                        "text/html": [
                            "<table>",
                            "<tr><th>ENumber</th><th>EmployeeFirstName</th><th>EmployeeLastName</th><th>TNumber</th><th>TotalAmount</th></tr>",
                            "<tr><td>NULL</td><td>NULL</td><td>NULL</td><td>1</td><td>-159.9000</td></tr>",
                            "<tr><td>NULL</td><td>NULL</td><td>NULL</td><td>2</td><td>-1226.5100</td></tr>",
                            "<tr><td>NULL</td><td>NULL</td><td>NULL</td><td>3</td><td>1436.3400</td></tr>",
                            "<tr><td>NULL</td><td>NULL</td><td>NULL</td><td>4</td><td>-332.5500</td></tr>",
                            "<tr><td>NULL</td><td>NULL</td><td>NULL</td><td>5</td><td>1852.7800</td></tr>",
                            "<tr><td>NULL</td><td>NULL</td><td>NULL</td><td>6</td><td>1070.1200</td></tr>",
                            "<tr><td>NULL</td><td>NULL</td><td>NULL</td><td>7</td><td>-333.3300</td></tr>",
                            "<tr><td>NULL</td><td>NULL</td><td>NULL</td><td>8</td><td>-981.8700</td></tr>",
                            "<tr><td>NULL</td><td>NULL</td><td>NULL</td><td>9</td><td>738.4500</td></tr>",
                            "<tr><td>NULL</td><td>NULL</td><td>NULL</td><td>10</td><td>239.1500</td></tr>",
                            "<tr><td>NULL</td><td>NULL</td><td>NULL</td><td>11</td><td>-80.9100</td></tr>",
                            "<tr><td>NULL</td><td>NULL</td><td>NULL</td><td>12</td><td>293.6800</td></tr>",
                            "<tr><td>NULL</td><td>NULL</td><td>NULL</td><td>13</td><td>394.5000</td></tr>",
                            "<tr><td>NULL</td><td>NULL</td><td>NULL</td><td>14</td><td>-634.1400</td></tr>",
                            "<tr><td>NULL</td><td>NULL</td><td>NULL</td><td>15</td><td>1156.1900</td></tr>",
                            "<tr><td>NULL</td><td>NULL</td><td>NULL</td><td>16</td><td>1226.0000</td></tr>",
                            "<tr><td>NULL</td><td>NULL</td><td>NULL</td><td>17</td><td>-38.8400</td></tr>",
                            "<tr><td>NULL</td><td>NULL</td><td>NULL</td><td>19</td><td>1440.0300</td></tr>",
                            "<tr><td>NULL</td><td>NULL</td><td>NULL</td><td>21</td><td>1150.2000</td></tr>",
                            "<tr><td>NULL</td><td>NULL</td><td>NULL</td><td>22</td><td>134.7300</td></tr>",
                            "<tr><td>NULL</td><td>NULL</td><td>NULL</td><td>23</td><td>-435.8600</td></tr>",
                            "<tr><td>NULL</td><td>NULL</td><td>NULL</td><td>24</td><td>106.3000</td></tr>",
                            "<tr><td>NULL</td><td>NULL</td><td>NULL</td><td>25</td><td>-561.9100</td></tr>",
                            "<tr><td>NULL</td><td>NULL</td><td>NULL</td><td>26</td><td>411.2800</td></tr>",
                            "<tr><td>NULL</td><td>NULL</td><td>NULL</td><td>27</td><td>990.5300</td></tr>",
                            "<tr><td>NULL</td><td>NULL</td><td>NULL</td><td>28</td><td>269.4600</td></tr>",
                            "<tr><td>NULL</td><td>NULL</td><td>NULL</td><td>29</td><td>-434.4100</td></tr>",
                            "<tr><td>NULL</td><td>NULL</td><td>NULL</td><td>30</td><td>-796.0200</td></tr>",
                            "<tr><td>NULL</td><td>NULL</td><td>NULL</td><td>32</td><td>-132.4200</td></tr>",
                            "<tr><td>NULL</td><td>NULL</td><td>NULL</td><td>34</td><td>265.8100</td></tr>",
                            "<tr><td>NULL</td><td>NULL</td><td>NULL</td><td>35</td><td>940.1800</td></tr>",
                            "<tr><td>NULL</td><td>NULL</td><td>NULL</td><td>37</td><td>-1532.1600</td></tr>",
                            "<tr><td>NULL</td><td>NULL</td><td>NULL</td><td>39</td><td>300.4800</td></tr>",
                            "<tr><td>NULL</td><td>NULL</td><td>NULL</td><td>40</td><td>-1817.0700</td></tr>",
                            "<tr><td>NULL</td><td>NULL</td><td>NULL</td><td>43</td><td>-580.7600</td></tr>",
                            "<tr><td>NULL</td><td>NULL</td><td>NULL</td><td>44</td><td>-293.1900</td></tr>",
                            "<tr><td>NULL</td><td>NULL</td><td>NULL</td><td>45</td><td>991.9600</td></tr>",
                            "<tr><td>NULL</td><td>NULL</td><td>NULL</td><td>46</td><td>-1012.5300</td></tr>",
                            "<tr><td>NULL</td><td>NULL</td><td>NULL</td><td>47</td><td>360.5800</td></tr>",
                            "<tr><td>NULL</td><td>NULL</td><td>NULL</td><td>48</td><td>-733.7100</td></tr>",
                            "<tr><td>NULL</td><td>NULL</td><td>NULL</td><td>49</td><td>-995.1700</td></tr>",
                            "<tr><td>NULL</td><td>NULL</td><td>NULL</td><td>50</td><td>1231.5000</td></tr>",
                            "<tr><td>NULL</td><td>NULL</td><td>NULL</td><td>51</td><td>-766.3700</td></tr>",
                            "<tr><td>NULL</td><td>NULL</td><td>NULL</td><td>52</td><td>565.0300</td></tr>",
                            "<tr><td>NULL</td><td>NULL</td><td>NULL</td><td>53</td><td>-1247.4400</td></tr>",
                            "<tr><td>NULL</td><td>NULL</td><td>NULL</td><td>54</td><td>-998.1600</td></tr>",
                            "<tr><td>NULL</td><td>NULL</td><td>NULL</td><td>55</td><td>471.2400</td></tr>",
                            "<tr><td>NULL</td><td>NULL</td><td>NULL</td><td>57</td><td>-394.1200</td></tr>",
                            "<tr><td>NULL</td><td>NULL</td><td>NULL</td><td>59</td><td>0.9000</td></tr>",
                            "<tr><td>NULL</td><td>NULL</td><td>NULL</td><td>61</td><td>-671.1100</td></tr>",
                            "<tr><td>NULL</td><td>NULL</td><td>NULL</td><td>62</td><td>-691.5700</td></tr>",
                            "<tr><td>NULL</td><td>NULL</td><td>NULL</td><td>63</td><td>40.7600</td></tr>",
                            "<tr><td>NULL</td><td>NULL</td><td>NULL</td><td>64</td><td>-533.9400</td></tr>",
                            "<tr><td>NULL</td><td>NULL</td><td>NULL</td><td>66</td><td>394.4900</td></tr>",
                            "<tr><td>NULL</td><td>NULL</td><td>NULL</td><td>68</td><td>-286.1400</td></tr>",
                            "<tr><td>NULL</td><td>NULL</td><td>NULL</td><td>69</td><td>-480.5300</td></tr>",
                            "<tr><td>NULL</td><td>NULL</td><td>NULL</td><td>70</td><td>-319.6300</td></tr>",
                            "<tr><td>NULL</td><td>NULL</td><td>NULL</td><td>71</td><td>48.7400</td></tr>",
                            "<tr><td>NULL</td><td>NULL</td><td>NULL</td><td>72</td><td>435.6600</td></tr>",
                            "<tr><td>NULL</td><td>NULL</td><td>NULL</td><td>73</td><td>828.3200</td></tr>",
                            "<tr><td>NULL</td><td>NULL</td><td>NULL</td><td>74</td><td>116.6800</td></tr>",
                            "<tr><td>NULL</td><td>NULL</td><td>NULL</td><td>75</td><td>446.7000</td></tr>",
                            "<tr><td>NULL</td><td>NULL</td><td>NULL</td><td>76</td><td>1275.8700</td></tr>",
                            "<tr><td>NULL</td><td>NULL</td><td>NULL</td><td>77</td><td>843.7700</td></tr>",
                            "<tr><td>NULL</td><td>NULL</td><td>NULL</td><td>78</td><td>-98.6000</td></tr>",
                            "<tr><td>NULL</td><td>NULL</td><td>NULL</td><td>79</td><td>759.0600</td></tr>",
                            "<tr><td>NULL</td><td>NULL</td><td>NULL</td><td>80</td><td>1940.2800</td></tr>",
                            "<tr><td>NULL</td><td>NULL</td><td>NULL</td><td>81</td><td>-1441.6800</td></tr>",
                            "<tr><td>NULL</td><td>NULL</td><td>NULL</td><td>82</td><td>2110.1700</td></tr>",
                            "<tr><td>NULL</td><td>NULL</td><td>NULL</td><td>84</td><td>132.0600</td></tr>",
                            "<tr><td>NULL</td><td>NULL</td><td>NULL</td><td>85</td><td>596.2000</td></tr>",
                            "<tr><td>NULL</td><td>NULL</td><td>NULL</td><td>86</td><td>-111.2800</td></tr>",
                            "<tr><td>NULL</td><td>NULL</td><td>NULL</td><td>87</td><td>199.7100</td></tr>",
                            "<tr><td>NULL</td><td>NULL</td><td>NULL</td><td>88</td><td>-343.1700</td></tr>",
                            "<tr><td>NULL</td><td>NULL</td><td>NULL</td><td>89</td><td>458.8000</td></tr>",
                            "<tr><td>NULL</td><td>NULL</td><td>NULL</td><td>90</td><td>197.1200</td></tr>",
                            "<tr><td>NULL</td><td>NULL</td><td>NULL</td><td>91</td><td>-1535.9500</td></tr>",
                            "<tr><td>NULL</td><td>NULL</td><td>NULL</td><td>92</td><td>336.7200</td></tr>",
                            "<tr><td>NULL</td><td>NULL</td><td>NULL</td><td>93</td><td>446.1400</td></tr>",
                            "<tr><td>NULL</td><td>NULL</td><td>NULL</td><td>95</td><td>-350.2500</td></tr>",
                            "<tr><td>NULL</td><td>NULL</td><td>NULL</td><td>96</td><td>1061.7300</td></tr>",
                            "<tr><td>NULL</td><td>NULL</td><td>NULL</td><td>97</td><td>916.9300</td></tr>",
                            "<tr><td>NULL</td><td>NULL</td><td>NULL</td><td>98</td><td>-27.7600</td></tr>",
                            "<tr><td>NULL</td><td>NULL</td><td>NULL</td><td>99</td><td>688.1300</td></tr>",
                            "<tr><td>NULL</td><td>NULL</td><td>NULL</td><td>100</td><td>-323.5400</td></tr>",
                            "<tr><td>NULL</td><td>NULL</td><td>NULL</td><td>101</td><td>2104.2900</td></tr>",
                            "<tr><td>NULL</td><td>NULL</td><td>NULL</td><td>102</td><td>-708.0100</td></tr>",
                            "<tr><td>NULL</td><td>NULL</td><td>NULL</td><td>103</td><td>-653.9500</td></tr>",
                            "<tr><td>NULL</td><td>NULL</td><td>NULL</td><td>104</td><td>-1024.5700</td></tr>",
                            "<tr><td>NULL</td><td>NULL</td><td>NULL</td><td>105</td><td>770.8600</td></tr>",
                            "<tr><td>NULL</td><td>NULL</td><td>NULL</td><td>106</td><td>-930.5500</td></tr>",
                            "<tr><td>NULL</td><td>NULL</td><td>NULL</td><td>107</td><td>-474.8900</td></tr>",
                            "<tr><td>NULL</td><td>NULL</td><td>NULL</td><td>108</td><td>343.3000</td></tr>",
                            "<tr><td>NULL</td><td>NULL</td><td>NULL</td><td>109</td><td>38.6300</td></tr>",
                            "<tr><td>NULL</td><td>NULL</td><td>NULL</td><td>110</td><td>353.9100</td></tr>",
                            "<tr><td>NULL</td><td>NULL</td><td>NULL</td><td>111</td><td>-398.3800</td></tr>",
                            "<tr><td>NULL</td><td>NULL</td><td>NULL</td><td>112</td><td>496.1300</td></tr>",
                            "<tr><td>NULL</td><td>NULL</td><td>NULL</td><td>114</td><td>3.9800</td></tr>",
                            "<tr><td>NULL</td><td>NULL</td><td>NULL</td><td>115</td><td>1206.2300</td></tr>",
                            "<tr><td>NULL</td><td>NULL</td><td>NULL</td><td>116</td><td>-459.8300</td></tr>",
                            "<tr><td>NULL</td><td>NULL</td><td>NULL</td><td>117</td><td>-2268.0300</td></tr>",
                            "<tr><td>NULL</td><td>NULL</td><td>NULL</td><td>118</td><td>-1777.3600</td></tr>",
                            "<tr><td>NULL</td><td>NULL</td><td>NULL</td><td>119</td><td>-1400.4600</td></tr>",
                            "<tr><td>NULL</td><td>NULL</td><td>NULL</td><td>120</td><td>916.3200</td></tr>",
                            "<tr><td>NULL</td><td>NULL</td><td>NULL</td><td>121</td><td>531.7800</td></tr>",
                            "<tr><td>NULL</td><td>NULL</td><td>NULL</td><td>122</td><td>854.3900</td></tr>",
                            "</table>"
                        ]
                    }
                }
            ],
            "execution_count": 1
        },
        {
            "cell_type": "code",
            "source": [
                "SELECT *\r\n",
                "from tblEmployee\r\n",
                "GROUP by EmployeeNumber\r\n",
                "HAVING COUNT(EmployeeNumber) > 1"
            ],
            "metadata": {
                "azdata_cell_guid": "fd38d4ad-7c7b-46b4-822c-515fceaae151"
            },
            "outputs": [],
            "execution_count": null
        },
        {
            "cell_type": "code",
            "source": [
                ""
            ],
            "metadata": {
                "azdata_cell_guid": "31ebbb22-6e10-4148-a9f7-b4dfa56982ea"
            },
            "outputs": [],
            "execution_count": null
        }
    ]
}